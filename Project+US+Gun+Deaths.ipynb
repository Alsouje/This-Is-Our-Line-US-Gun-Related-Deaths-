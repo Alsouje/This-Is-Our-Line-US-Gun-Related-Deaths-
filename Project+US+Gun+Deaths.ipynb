{
 "cells": [
  {
   "cell_type": "markdown",
   "metadata": {},
   "source": [
    "### Where US and Third World Countries Rates Meet\n",
    "\n",
    "I came up with the idea for this project after seeing the growing of the hashtag __#ThisIsOurLane__ when an American doctor’s tweet response to NRA’s “stay in their lane” went viral.\n",
    "\n",
    "    US has a very high r\n",
    "    ate of gun-shot deaths. There are decades of conflict between the medical and science community, who have called the rise in gun violence a public health crisis.\n",
    "\n",
    "Doctors interpreted National Rifle Association’ tweet (NRA, America’s most influential gun rights group) as foul language and it was the trigger for Doctor Judy Melinek’s post which quickly gained support from other doctors and forensic pathologists.\n",
    "\n",
    "I have decided to use this topic as my first Python project, analyzing firearm-related death rates in US between 2012-2014. My aim was to find patterns in the data that shows reasons behind the medical’s community reaction to NRA’s tweet. \n"
   ]
  },
  {
   "cell_type": "markdown",
   "metadata": {},
   "source": [
    "# Opening files \n",
    "\n",
    "Opening __gun.csv__ file and reading dataset in a list using csv module. "
   ]
  },
  {
   "cell_type": "code",
   "execution_count": 1,
   "metadata": {
    "collapsed": false
   },
   "outputs": [
    {
     "name": "stdout",
     "output_type": "stream",
     "text": [
      "[['', 'year', 'month', 'intent', 'police', 'sex', 'age', 'race', 'hispanic', 'place', 'education'], ['1', '2012', '01', 'Suicide', '0', 'M', '34', 'Asian/Pacific Islander', '100', 'Home', '4'], ['2', '2012', '01', 'Suicide', '0', 'F', '21', 'White', '100', 'Street', '3'], ['3', '2012', '01', 'Suicide', '0', 'M', '60', 'White', '100', 'Other specified', '4'], ['4', '2012', '02', 'Suicide', '0', 'M', '64', 'White', '100', 'Home', '4']]\n"
     ]
    }
   ],
   "source": [
    "# Opening and reading file\n",
    "import csv\n",
    "\n",
    "f = open('guns.csv', 'r')\n",
    "data = list(csv.reader(f))\n",
    "\n",
    "# Displaying the first 5 rows of the data to verify\n",
    "print(data[:5])"
   ]
  },
  {
   "cell_type": "markdown",
   "metadata": {},
   "source": [
    "###### I have done this process so I could analyse the data properly and also could see the header after excluinding it, very useful to keep track on the ideas."
   ]
  },
  {
   "cell_type": "code",
   "execution_count": 2,
   "metadata": {
    "collapsed": false
   },
   "outputs": [
    {
     "name": "stdout",
     "output_type": "stream",
     "text": [
      "[['', 'year', 'month', 'intent', 'police', 'sex', 'age', 'race', 'hispanic', 'place', 'education']]\n",
      "[['1', '2012', '01', 'Suicide', '0', 'M', '34', 'Asian/Pacific Islander', '100', 'Home', '4'], ['2', '2012', '01', 'Suicide', '0', 'F', '21', 'White', '100', 'Street', '3'], ['3', '2012', '01', 'Suicide', '0', 'M', '60', 'White', '100', 'Other specified', '4']]\n"
     ]
    }
   ],
   "source": [
    "# Extracting the header and assigining to a variable \n",
    "# Excluinding the first row from __data__\n",
    "\n",
    "headers = data[:1]\n",
    "data = data[1:]\n",
    "\n",
    "# Checking if worked\n",
    "print(headers)  \n",
    "print(data[:3])"
   ]
  },
  {
   "cell_type": "markdown",
   "metadata": {},
   "source": [
    "# Extracting information from columns \n",
    "\n",
    "At this point we will be using three columns to analyse the data: \n",
    "\n",
    "    - Year\n",
    "    - Intent\n",
    "    - Place\n",
    "    "
   ]
  },
  {
   "cell_type": "code",
   "execution_count": 3,
   "metadata": {
    "collapsed": false
   },
   "outputs": [],
   "source": [
    "# This __def__ funtion counts for every column and then we can assing it to a variable reducing coding load \n",
    "\n",
    "def count_columns(column_index):\n",
    "\n",
    "    column_name = [row[column_index] for row in data] \n",
    "    column_counts = {}\n",
    "\n",
    "    for x in column_name:\n",
    "        if x in  column_counts:\n",
    "            column_counts[x] =  column_counts[x] + 1\n",
    "        else:\n",
    "             column_counts[x]  = 1\n",
    "    \n",
    "    return column_counts\n",
    "\n",
    "year_column = count_columns(1) # Counts numbers of fatalities for each year\n",
    "place_column = count_columns(9) # Counts place of occurrence\n",
    "intent_column = count_columns(3) # Counts the intent \n",
    "gender_column = count_columns(5) # Counts fatalities filtered by gender"
   ]
  },
  {
   "cell_type": "markdown",
   "metadata": {},
   "source": [
    "###### The first findings are striking. \n",
    "\n",
    "- Below we can see the number of __gunshot-related death__ per year including both males and females fatalities.\n",
    "- Men counts for more than __80%__ of deaths due firearm.\n"
   ]
  },
  {
   "cell_type": "code",
   "execution_count": 4,
   "metadata": {
    "collapsed": false
   },
   "outputs": [
    {
     "data": {
      "text/plain": [
       "{'2012': 33563, '2013': 33636, '2014': 33599}"
      ]
     },
     "execution_count": 4,
     "metadata": {},
     "output_type": "execute_result"
    }
   ],
   "source": [
    "year_column "
   ]
  },
  {
   "cell_type": "code",
   "execution_count": 5,
   "metadata": {
    "collapsed": false
   },
   "outputs": [
    {
     "data": {
      "text/plain": [
       "{'F': 14449, 'M': 86349}"
      ]
     },
     "execution_count": 5,
     "metadata": {},
     "output_type": "execute_result"
    }
   ],
   "source": [
    "gender_column"
   ]
  },
  {
   "cell_type": "markdown",
   "metadata": {},
   "source": [
    "# US gun-related death rates\n",
    "\n",
    "- In order to better analyse I converted the data to a rate of gunshot deaths per 100000 people.\n",
    "- For this I had to create a manual dictionary with US population along those years.\n",
    "\n",
    "     US gun-related death rate is __very high__, specialy compared to others first world countries. A quick Google search is enough to see that these numbers put USA in the __10th__ position in a list of countries with highest rate of firearm-related death. \n",
    "     \n",
    "     Finland is the next first world country to appear in the __23th__ position of the list with a rate of __3.49__ deaths per 100000 people. The diffrence is daunting!"
   ]
  },
  {
   "cell_type": "code",
   "execution_count": 6,
   "metadata": {
    "collapsed": false
   },
   "outputs": [
    {
     "data": {
      "text/plain": [
       "{'2012': 10.688853503184713,\n",
       " '2013': 10.637571157495257,\n",
       " '2014': 10.545825486503453}"
      ]
     },
     "execution_count": 6,
     "metadata": {},
     "output_type": "execute_result"
    }
   ],
   "source": [
    "population = {'2012':314000000, '2013':316200000, '2014':318600000}\n",
    "\n",
    "rate_gunrelated_death = {}\n",
    "\n",
    "for k,v in year_column.items():\n",
    "    rate_gunrelated_death[k] = (v / population[k]) * 100000 #dividing keys' values in dicts and multiplying by 100K to find the rate\n",
    "\n",
    "rate_gunrelated_death"
   ]
  },
  {
   "cell_type": "markdown",
   "metadata": {},
   "source": [
    "# Gun-related death spikes in summer period\n",
    "\n",
    "Data shows a pattern, number of fatalities have a spike during summer time.\n",
    "\n",
    "I have used the code below to look closely, using the __month__ and __year__ columns of data to create a __datetime__. \n",
    "\n",
    "__Months__ are represented by the second index within the list being: 1 = January; 2 = February; 3 = March ... and so on.\n",
    "\n"
   ]
  },
  {
   "cell_type": "code",
   "execution_count": 7,
   "metadata": {
    "collapsed": false
   },
   "outputs": [
    {
     "data": {
      "text/plain": [
       "[datetime.datetime(2012, 1, 1, 0, 0),\n",
       " datetime.datetime(2012, 1, 1, 0, 0),\n",
       " datetime.datetime(2012, 1, 1, 0, 0),\n",
       " datetime.datetime(2012, 2, 1, 0, 0),\n",
       " datetime.datetime(2012, 2, 1, 0, 0)]"
      ]
     },
     "execution_count": 7,
     "metadata": {},
     "output_type": "execute_result"
    }
   ],
   "source": [
    "# Creating a datetime.datetime object for each row\n",
    "import datetime\n",
    "\n",
    "dates = [datetime.datetime(year=int(row[1]), month=int(row[2]), day=1) for row in data]\n",
    "dates[:5]"
   ]
  },
  {
   "cell_type": "markdown",
   "metadata": {},
   "source": [
    "Counted up how many gun deaths occurred in each month and year.\n",
    "\n",
    "###### Now we can clearly see the spark in gunshot deaths between months of spring and summer."
   ]
  },
  {
   "cell_type": "code",
   "execution_count": 8,
   "metadata": {
    "collapsed": false
   },
   "outputs": [
    {
     "data": {
      "text/plain": [
       "{datetime.datetime(2012, 1, 1, 0, 0): 2758,\n",
       " datetime.datetime(2012, 2, 1, 0, 0): 2357,\n",
       " datetime.datetime(2012, 3, 1, 0, 0): 2743,\n",
       " datetime.datetime(2012, 4, 1, 0, 0): 2795,\n",
       " datetime.datetime(2012, 5, 1, 0, 0): 2999,\n",
       " datetime.datetime(2012, 6, 1, 0, 0): 2826,\n",
       " datetime.datetime(2012, 7, 1, 0, 0): 3026,\n",
       " datetime.datetime(2012, 8, 1, 0, 0): 2954,\n",
       " datetime.datetime(2012, 9, 1, 0, 0): 2852,\n",
       " datetime.datetime(2012, 10, 1, 0, 0): 2733,\n",
       " datetime.datetime(2012, 11, 1, 0, 0): 2729,\n",
       " datetime.datetime(2012, 12, 1, 0, 0): 2791,\n",
       " datetime.datetime(2013, 1, 1, 0, 0): 2864,\n",
       " datetime.datetime(2013, 2, 1, 0, 0): 2375,\n",
       " datetime.datetime(2013, 3, 1, 0, 0): 2862,\n",
       " datetime.datetime(2013, 4, 1, 0, 0): 2798,\n",
       " datetime.datetime(2013, 5, 1, 0, 0): 2806,\n",
       " datetime.datetime(2013, 6, 1, 0, 0): 2920,\n",
       " datetime.datetime(2013, 7, 1, 0, 0): 3079,\n",
       " datetime.datetime(2013, 8, 1, 0, 0): 2859,\n",
       " datetime.datetime(2013, 9, 1, 0, 0): 2742,\n",
       " datetime.datetime(2013, 10, 1, 0, 0): 2808,\n",
       " datetime.datetime(2013, 11, 1, 0, 0): 2758,\n",
       " datetime.datetime(2013, 12, 1, 0, 0): 2765,\n",
       " datetime.datetime(2014, 1, 1, 0, 0): 2651,\n",
       " datetime.datetime(2014, 2, 1, 0, 0): 2361,\n",
       " datetime.datetime(2014, 3, 1, 0, 0): 2684,\n",
       " datetime.datetime(2014, 4, 1, 0, 0): 2862,\n",
       " datetime.datetime(2014, 5, 1, 0, 0): 2864,\n",
       " datetime.datetime(2014, 6, 1, 0, 0): 2931,\n",
       " datetime.datetime(2014, 7, 1, 0, 0): 2884,\n",
       " datetime.datetime(2014, 8, 1, 0, 0): 2970,\n",
       " datetime.datetime(2014, 9, 1, 0, 0): 2914,\n",
       " datetime.datetime(2014, 10, 1, 0, 0): 2865,\n",
       " datetime.datetime(2014, 11, 1, 0, 0): 2756,\n",
       " datetime.datetime(2014, 12, 1, 0, 0): 2857}"
      ]
     },
     "execution_count": 8,
     "metadata": {},
     "output_type": "execute_result"
    }
   ],
   "source": [
    "date_counts = {}\n",
    "\n",
    "for x in dates:\n",
    "    if x in date_counts:\n",
    "        date_counts[x] = date_counts[x] + 1\n",
    "    else:\n",
    "        date_counts[x]  = 1\n",
    "        \n",
    "date_counts"
   ]
  },
  {
   "cell_type": "markdown",
   "metadata": {},
   "source": [
    "# Suicide counts for 63% of gunshot deaths\n",
    "\n",
    "The next code was where it really grabbed my attetion. \n",
    "- More than half of gun-related fatalities between 2012-2014 were __suicides__. \n",
    "- Firearm-related suicide rate was 6,6 between 2012-2014, which puts __USA__ on the top of the list, next were __Montenegro___ (6,49), __Uruguay__ (4,78) and __Finland__ (2,94).\n"
   ]
  },
  {
   "cell_type": "code",
   "execution_count": 9,
   "metadata": {
    "collapsed": false
   },
   "outputs": [
    {
     "name": "stdout",
     "output_type": "stream",
     "text": [
      "{'NA': 1, 'Homicide': 35176, 'Undetermined': 807, 'Accidental': 1639, 'Suicide': 63175}\n"
     ]
    },
    {
     "data": {
      "text/plain": [
       "0.63"
      ]
     },
     "execution_count": 9,
     "metadata": {},
     "output_type": "execute_result"
    }
   ],
   "source": [
    "intent_column\n",
    "\n",
    "suicide_percentage = intent_column['Suicide']/100798\n",
    "\n",
    "print(intent_column)\n",
    "round(suicide_percentage, 2) #rounding percentage two two decimals "
   ]
  },
  {
   "cell_type": "code",
   "execution_count": 10,
   "metadata": {
    "collapsed": false
   },
   "outputs": [
    {
     "data": {
      "text/plain": [
       "{'2012': 6.581528662420381,\n",
       " '2013': 6.696710942441492,\n",
       " '2014': 6.696170747018204}"
      ]
     },
     "execution_count": 10,
     "metadata": {},
     "output_type": "execute_result"
    }
   ],
   "source": [
    "population = {'2012':314000000, '2013':316200000, '2014':318600000}\n",
    "\n",
    "# Creating a dict with number of suicides filtered by year\n",
    "intent = [row[3] for row in data]\n",
    "years = [row[1] for row in data]\n",
    "\n",
    "intent_counts = {}\n",
    "\n",
    "for i, year in enumerate(years):  # same than k, v\n",
    "    if year not in intent_counts:\n",
    "        intent_counts[year] = 0\n",
    "    if intent[i] == 'Suicide':\n",
    "        intent_counts[year] += 1\n",
    "\n",
    "# Finding rates\n",
    "for k,v in intent_counts.items():\n",
    "    intent_counts[k] = (v / population[k]) * 100000\n",
    "\n",
    "\n",
    "intent_counts "
   ]
  },
  {
   "cell_type": "markdown",
   "metadata": {},
   "source": [
    "# 80% of __Farm__'s and 75% of __Home__'s gunshot-related deaths were suicide\n",
    "\n",
    "With this code my aim was to find out the __Suicide__ percentage filtered by __place__ that it occurred. The percentage of suicide remains very high along all the places analysed, exception in __Street__ which 79,5% were homicides."
   ]
  },
  {
   "cell_type": "code",
   "execution_count": 11,
   "metadata": {
    "collapsed": false
   },
   "outputs": [],
   "source": [
    "# Created a def function that can worked for every element whithin the columns we want to compared\n",
    "\n",
    "def comparation_reverse(place_index, place_name):\n",
    "    \n",
    "    place = [row[place_index] for row in data]\n",
    "    intents = [row[3] for row in data]\n",
    "\n",
    "    column_comparation_intent_counts = {}\n",
    "\n",
    "    for i,intent in enumerate(intents):  \n",
    "        if intent not in column_comparation_intent_counts:\n",
    "            column_comparation_intent_counts[intent] = 0\n",
    "        if place[i] == place_name:\n",
    "            column_comparation_intent_counts[intent] += 1\n",
    "\n",
    "# Fiding rates \n",
    "    for k,v in column_comparation_intent_counts.items():\n",
    "        column_comparation_intent_counts[k] = (v / place_column[place_name]) * 100 #want to know how the total deaths are divided\n",
    "                                                                                    #by intent\n",
    "    return column_comparation_intent_counts\n",
    "\n",
    "farm_percentage = comparation_reverse(9, 'Farm')\n",
    "home_percentage = comparation_reverse(9, 'Home')\n",
    "school_inst_percentage = comparation_reverse(9, 'School/instiution')\n",
    "sports_percentage = comparation_reverse(9, 'Sports')\n",
    "street_percentage = comparation_reverse(9, 'Street')\n"
   ]
  },
  {
   "cell_type": "code",
   "execution_count": 12,
   "metadata": {
    "collapsed": false
   },
   "outputs": [
    {
     "data": {
      "text/plain": [
       "{'Accidental': 2.7659574468085104,\n",
       " 'Homicide': 16.170212765957448,\n",
       " 'NA': 0.0,\n",
       " 'Suicide': 80.42553191489363,\n",
       " 'Undetermined': 0.6382978723404255}"
      ]
     },
     "execution_count": 12,
     "metadata": {},
     "output_type": "execute_result"
    }
   ],
   "source": [
    "farm_percentage"
   ]
  },
  {
   "cell_type": "code",
   "execution_count": 13,
   "metadata": {
    "collapsed": false
   },
   "outputs": [
    {
     "data": {
      "text/plain": [
       "{'Accidental': 1.5259729524187415,\n",
       " 'Homicide': 22.506034454253875,\n",
       " 'NA': 0.0,\n",
       " 'Suicide': 75.08349039447145,\n",
       " 'Undetermined': 0.8845021988559336}"
      ]
     },
     "execution_count": 13,
     "metadata": {},
     "output_type": "execute_result"
    }
   ],
   "source": [
    "home_percentage"
   ]
  },
  {
   "cell_type": "code",
   "execution_count": 14,
   "metadata": {
    "collapsed": false
   },
   "outputs": [
    {
     "data": {
      "text/plain": [
       "{'Accidental': 1.639344262295082,\n",
       " 'Homicide': 53.80029806259314,\n",
       " 'NA': 0.0,\n",
       " 'Suicide': 43.96423248882265,\n",
       " 'Undetermined': 0.5961251862891207}"
      ]
     },
     "execution_count": 14,
     "metadata": {},
     "output_type": "execute_result"
    }
   ],
   "source": [
    "school_inst_percentage"
   ]
  },
  {
   "cell_type": "code",
   "execution_count": 15,
   "metadata": {
    "collapsed": false
   },
   "outputs": [
    {
     "data": {
      "text/plain": [
       "{'Accidental': 3.90625,\n",
       " 'Homicide': 17.1875,\n",
       " 'NA': 0.0,\n",
       " 'Suicide': 76.5625,\n",
       " 'Undetermined': 2.34375}"
      ]
     },
     "execution_count": 15,
     "metadata": {},
     "output_type": "execute_result"
    }
   ],
   "source": [
    "sports_percentage"
   ]
  },
  {
   "cell_type": "code",
   "execution_count": 16,
   "metadata": {
    "collapsed": false
   },
   "outputs": [
    {
     "data": {
      "text/plain": [
       "{'Accidental': 0.6994888350820554,\n",
       " 'Homicide': 79.51753205990494,\n",
       " 'NA': 0.0,\n",
       " 'Suicide': 19.558783965563624,\n",
       " 'Undetermined': 0.22419513944937675}"
      ]
     },
     "execution_count": 16,
     "metadata": {},
     "output_type": "execute_result"
    }
   ],
   "source": [
    "street_percentage "
   ]
  },
  {
   "cell_type": "code",
   "execution_count": null,
   "metadata": {
    "collapsed": true
   },
   "outputs": [],
   "source": []
  }
 ],
 "metadata": {
  "kernelspec": {
   "display_name": "Python 3",
   "language": "python",
   "name": "python3"
  },
  "language_info": {
   "codemirror_mode": {
    "name": "ipython",
    "version": 3
   },
   "file_extension": ".py",
   "mimetype": "text/x-python",
   "name": "python",
   "nbconvert_exporter": "python",
   "pygments_lexer": "ipython3",
   "version": "3.4.3"
  }
 },
 "nbformat": 4,
 "nbformat_minor": 2
}
